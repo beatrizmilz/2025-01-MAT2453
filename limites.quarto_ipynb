{
  "cells": [
    {
      "cell_type": "markdown",
      "metadata": {},
      "source": [
        "---\n",
        "title: \"Limites\"\n",
        "format: html\n",
        "---\n",
        "\n",
        "\n",
        "\n",
        "\n",
        "\n",
        "## Aula 4 - Exemplos:\n",
        "\n",
        "\n",
        "\n",
        "\n",
        "\n",
        "```{js}\n",
        "window.MathJax = {\n",
        "  loader: {load: ['[tex]/cancel']},\n",
        "  tex: {packages: {'[+]': ['cancel']}}\n",
        "};\n",
        "```\n",
        "\n",
        "\n",
        "\n",
        "\n",
        "\n",
        "### Exemplo 1:\n",
        "\n",
        "$$\n",
        "\\lim_{x \\to 0} \\frac{1}{x^2} . x^2 \\\\\n",
        "\n",
        "\\lim_{x \\to 0} \\frac{1}{\\cancel{x^2}} . \\cancel{x^2} = 1\n",
        "\n",
        "$$\n"
      ],
      "id": "ebddd804"
    }
  ],
  "metadata": {
    "kernelspec": {
      "display_name": "Python 3",
      "language": "python",
      "name": "python3"
    }
  },
  "nbformat": 4,
  "nbformat_minor": 5
}